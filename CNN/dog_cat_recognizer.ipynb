{
 "cells": [
  {
   "cell_type": "code",
   "execution_count": 30,
   "metadata": {},
   "outputs": [],
   "source": [
    "# Importing the libraries\n",
    "import tensorflow as tf\n",
    "from keras.preprocessing.image import ImageDataGenerator"
   ]
  },
  {
   "cell_type": "markdown",
   "metadata": {},
   "source": [
    "## Data preprocessing"
   ]
  },
  {
   "cell_type": "code",
   "execution_count": 31,
   "metadata": {},
   "outputs": [],
   "source": [
    "# Train dataset\n",
    "train_datagen = ImageDataGenerator(\n",
    "        rescale=1./255,\n",
    "        shear_range=0.2,\n",
    "        zoom_range=0.2,\n",
    "        horizontal_flip=True)"
   ]
  },
  {
   "cell_type": "code",
   "execution_count": 32,
   "metadata": {},
   "outputs": [
    {
     "name": "stdout",
     "output_type": "stream",
     "text": [
      "Found 8000 images belonging to 2 classes.\n"
     ]
    }
   ],
   "source": [
    "# Train dataset\n",
    "training_set = train_datagen.flow_from_directory(\n",
    "        'dataset/training_set',\n",
    "        target_size=(64, 64),\n",
    "        batch_size=32,\n",
    "        class_mode='binary')"
   ]
  },
  {
   "cell_type": "code",
   "execution_count": 33,
   "metadata": {},
   "outputs": [
    {
     "name": "stdout",
     "output_type": "stream",
     "text": [
      "Found 2000 images belonging to 2 classes.\n"
     ]
    }
   ],
   "source": [
    "# Test dataset\n",
    "test_datagen = ImageDataGenerator(rescale=1./255)\n",
    "\n",
    "test_set = test_datagen.flow_from_directory(\n",
    "        'dataset/test_set',\n",
    "        target_size=(64, 64),\n",
    "        batch_size=32,\n",
    "        class_mode='binary')"
   ]
  },
  {
   "cell_type": "markdown",
   "metadata": {},
   "source": [
    "# Building CNN"
   ]
  },
  {
   "cell_type": "code",
   "execution_count": 34,
   "metadata": {},
   "outputs": [],
   "source": [
    "cnn = tf.keras.Sequential()"
   ]
  },
  {
   "cell_type": "code",
   "execution_count": 38,
   "metadata": {},
   "outputs": [],
   "source": [
    "# Step 1: 1st  Convolution layer\n",
    "cnn.add(tf.keras.layers.Conv2D(filters=32, kernel_size=3, activation='relu', padding=\"same\", input_shape=[64, 64, 3]))"
   ]
  },
  {
   "cell_type": "code",
   "execution_count": 39,
   "metadata": {},
   "outputs": [],
   "source": [
    "# Step 2:  Pooling\n",
    "cnn.add(tf.keras.layers.MaxPool2D(pool_size=2, strides=2))"
   ]
  },
  {
   "cell_type": "code",
   "execution_count": 40,
   "metadata": {},
   "outputs": [],
   "source": [
    "# 2nd Convolution layer with max pooling\n",
    "cnn.add(tf.keras.layers.Conv2D(filters=32, kernel_size=3, padding=\"same\", activation='relu'))\n",
    "cnn.add(tf.keras.layers.MaxPool2D(pool_size=2, strides=2))"
   ]
  },
  {
   "cell_type": "code",
   "execution_count": 41,
   "metadata": {},
   "outputs": [],
   "source": [
    "# Step 3:  Flattening\n",
    "cnn.add(tf.keras.layers.Flatten())"
   ]
  },
  {
   "cell_type": "code",
   "execution_count": 42,
   "metadata": {},
   "outputs": [],
   "source": [
    "# Step 4: Full connection\n",
    "cnn.add(tf.keras.layers.Dense(units=128, activation='relu'))"
   ]
  },
  {
   "cell_type": "code",
   "execution_count": 43,
   "metadata": {},
   "outputs": [],
   "source": [
    "# Step 5: Output layer\n",
    "cnn.add(tf.keras.layers.Dense(units=1, activation='sigmoid'))"
   ]
  },
  {
   "cell_type": "markdown",
   "metadata": {},
   "source": [
    "## Training the CNN"
   ]
  },
  {
   "cell_type": "code",
   "execution_count": 44,
   "metadata": {},
   "outputs": [],
   "source": [
    "cnn.compile(optimizer = 'adam', loss = 'binary_crossentropy', metrics = ['accuracy'])"
   ]
  },
  {
   "cell_type": "code",
   "execution_count": 45,
   "metadata": {},
   "outputs": [
    {
     "name": "stdout",
     "output_type": "stream",
     "text": [
      "Epoch 1/25\n",
      "250/250 [==============================] - 360s 1s/step - loss: 0.6742 - accuracy: 0.5701 - val_loss: 0.6261 - val_accuracy: 0.6660\n",
      "Epoch 2/25\n",
      "250/250 [==============================] - 127s 511ms/step - loss: 0.6137 - accuracy: 0.6646 - val_loss: 0.5978 - val_accuracy: 0.6755\n",
      "Epoch 3/25\n",
      "250/250 [==============================] - 107s 426ms/step - loss: 0.5713 - accuracy: 0.7014 - val_loss: 0.5586 - val_accuracy: 0.7105\n",
      "Epoch 4/25\n",
      "250/250 [==============================] - 102s 408ms/step - loss: 0.5395 - accuracy: 0.7229 - val_loss: 0.5262 - val_accuracy: 0.7395\n",
      "Epoch 5/25\n",
      "250/250 [==============================] - 120s 482ms/step - loss: 0.5129 - accuracy: 0.7454 - val_loss: 0.5033 - val_accuracy: 0.7590\n",
      "Epoch 6/25\n",
      "250/250 [==============================] - 113s 452ms/step - loss: 0.4870 - accuracy: 0.7692 - val_loss: 0.4783 - val_accuracy: 0.7745\n",
      "Epoch 7/25\n",
      "250/250 [==============================] - 127s 507ms/step - loss: 0.4830 - accuracy: 0.7592 - val_loss: 0.4865 - val_accuracy: 0.7795\n",
      "Epoch 8/25\n",
      "250/250 [==============================] - 137s 545ms/step - loss: 0.4491 - accuracy: 0.7910 - val_loss: 0.4406 - val_accuracy: 0.8100\n",
      "Epoch 9/25\n",
      "250/250 [==============================] - 122s 487ms/step - loss: 0.4339 - accuracy: 0.8014 - val_loss: 0.4135 - val_accuracy: 0.8230\n",
      "Epoch 10/25\n",
      "250/250 [==============================] - 120s 478ms/step - loss: 0.4213 - accuracy: 0.8074 - val_loss: 0.4205 - val_accuracy: 0.8090\n",
      "Epoch 11/25\n",
      "250/250 [==============================] - 129s 515ms/step - loss: 0.3975 - accuracy: 0.8217 - val_loss: 0.4719 - val_accuracy: 0.7845\n",
      "Epoch 12/25\n",
      "250/250 [==============================] - 120s 479ms/step - loss: 0.4048 - accuracy: 0.8195 - val_loss: 0.3873 - val_accuracy: 0.8260\n",
      "Epoch 13/25\n",
      "250/250 [==============================] - 113s 454ms/step - loss: 0.3817 - accuracy: 0.8276 - val_loss: 0.3938 - val_accuracy: 0.8210\n",
      "Epoch 14/25\n",
      "250/250 [==============================] - 103s 410ms/step - loss: 0.3812 - accuracy: 0.8241 - val_loss: 0.4210 - val_accuracy: 0.8100\n",
      "Epoch 15/25\n",
      "250/250 [==============================] - 122s 488ms/step - loss: 0.3571 - accuracy: 0.8415 - val_loss: 0.4180 - val_accuracy: 0.8235\n",
      "Epoch 16/25\n",
      "250/250 [==============================] - 101s 403ms/step - loss: 0.3555 - accuracy: 0.8454 - val_loss: 0.3960 - val_accuracy: 0.8285\n",
      "Epoch 17/25\n",
      "250/250 [==============================] - 105s 421ms/step - loss: 0.3603 - accuracy: 0.8356 - val_loss: 0.3681 - val_accuracy: 0.8320\n",
      "Epoch 18/25\n",
      "250/250 [==============================] - 111s 444ms/step - loss: 0.3391 - accuracy: 0.8471 - val_loss: 0.3747 - val_accuracy: 0.8360\n",
      "Epoch 19/25\n",
      "250/250 [==============================] - 108s 433ms/step - loss: 0.3277 - accuracy: 0.8575 - val_loss: 0.3848 - val_accuracy: 0.8290\n",
      "Epoch 20/25\n",
      "250/250 [==============================] - 99s 394ms/step - loss: 0.3240 - accuracy: 0.8595 - val_loss: 0.3596 - val_accuracy: 0.8335\n",
      "Epoch 21/25\n",
      "250/250 [==============================] - 100s 399ms/step - loss: 0.3172 - accuracy: 0.8570 - val_loss: 0.3683 - val_accuracy: 0.8405\n",
      "Epoch 22/25\n",
      "250/250 [==============================] - 85s 340ms/step - loss: 0.3226 - accuracy: 0.8584 - val_loss: 0.3542 - val_accuracy: 0.8460\n",
      "Epoch 23/25\n",
      "250/250 [==============================] - 88s 354ms/step - loss: 0.3089 - accuracy: 0.8629 - val_loss: 0.3461 - val_accuracy: 0.8455\n",
      "Epoch 24/25\n",
      "250/250 [==============================] - 87s 346ms/step - loss: 0.2986 - accuracy: 0.8694 - val_loss: 0.3694 - val_accuracy: 0.8400\n",
      "Epoch 25/25\n",
      "250/250 [==============================] - 76s 306ms/step - loss: 0.3026 - accuracy: 0.8690 - val_loss: 0.4180 - val_accuracy: 0.8240\n"
     ]
    },
    {
     "data": {
      "text/plain": [
       "<keras.callbacks.History at 0x191456f4610>"
      ]
     },
     "execution_count": 45,
     "metadata": {},
     "output_type": "execute_result"
    }
   ],
   "source": [
    "#train cnn\n",
    "cnn.fit(x = training_set, validation_data = test_set, epochs = 25)"
   ]
  },
  {
   "cell_type": "code",
   "execution_count": 51,
   "metadata": {},
   "outputs": [
    {
     "name": "stdout",
     "output_type": "stream",
     "text": [
      "1/1 [==============================] - 0s 125ms/step\n",
      "{'cats': 0, 'dogs': 1} 1.0\n",
      "dog\n"
     ]
    }
   ],
   "source": [
    "##Making prediction\n",
    "import numpy as np\n",
    "from keras.utils import load_img, img_to_array\n",
    "test_image = load_img('dataset/single_prediction/Dog_Breeds.jpg', target_size=(64, 64))\n",
    "test_image = img_to_array(test_image)\n",
    "test_image = np.expand_dims(test_image, axis = 0)\n",
    "result = cnn.predict(test_image)\n",
    "print(training_set.class_indices, result[0][0])\n",
    "if result[0][0] == 1:\n",
    "    prediction = 'dog'\n",
    "else:\n",
    "    prediction = 'cat'\n",
    "    \n",
    "print(prediction)    "
   ]
  },
  {
   "cell_type": "code",
   "execution_count": null,
   "metadata": {},
   "outputs": [],
   "source": []
  }
 ],
 "metadata": {
  "kernelspec": {
   "display_name": "Python 3.10.9 64-bit",
   "language": "python",
   "name": "python3"
  },
  "language_info": {
   "codemirror_mode": {
    "name": "ipython",
    "version": 3
   },
   "file_extension": ".py",
   "mimetype": "text/x-python",
   "name": "python",
   "nbconvert_exporter": "python",
   "pygments_lexer": "ipython3",
   "version": "3.10.9"
  },
  "orig_nbformat": 4,
  "vscode": {
   "interpreter": {
    "hash": "ff285c4e85497f3eb5ac7fae1cadf538c385046fb6335093f14a8c12075b2789"
   }
  }
 },
 "nbformat": 4,
 "nbformat_minor": 2
}
