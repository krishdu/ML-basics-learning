{
 "cells": [
  {
   "cell_type": "code",
   "execution_count": 105,
   "metadata": {},
   "outputs": [],
   "source": [
    "import pandas as pd\n",
    "import numpy as np\n",
    "from sklearn.model_selection import train_test_split\n",
    "from sklearn.feature_extraction.text import TfidfVectorizer\n",
    "from sklearn.neighbors import KNeighborsClassifier"
   ]
  },
  {
   "cell_type": "code",
   "execution_count": 106,
   "metadata": {},
   "outputs": [],
   "source": [
    "df = pd.read_csv('books_4.csv')\n",
    "df['language_code'].fillna('eng', inplace=True)\n",
    "features = ['language_code', 'Author', 'genre']\n",
    "\n",
    "X = df[features]\n",
    "Y = df['Book Name']"
   ]
  },
  {
   "cell_type": "code",
   "execution_count": 107,
   "metadata": {},
   "outputs": [
    {
     "name": "stdout",
     "output_type": "stream",
     "text": [
      "Missing values distribution: \n",
      "language_code    0.0\n",
      "Author           0.0\n",
      "genre            0.0\n",
      "dtype: float64\n",
      "---\n",
      "0.0\n",
      "---\n",
      "language_code    0.0\n",
      "Author           0.0\n",
      "genre            0.0\n",
      "dtype: float64\n",
      "---\n",
      "0.0\n"
     ]
    }
   ],
   "source": [
    "print(\"Missing values distribution: \")\n",
    "print(X.isna().mean())\n",
    "print('---')\n",
    "print(Y.isna().mean())\n",
    "print('---')\n",
    "print(X.isnull().mean())\n",
    "print('---')\n",
    "print(Y.isnull().mean())"
   ]
  },
  {
   "cell_type": "code",
   "execution_count": 108,
   "metadata": {},
   "outputs": [
    {
     "name": "stderr",
     "output_type": "stream",
     "text": [
      "C:\\Users\\krishnendupatra\\AppData\\Local\\Temp\\ipykernel_5608\\3929207128.py:1: SettingWithCopyWarning: \n",
      "A value is trying to be set on a copy of a slice from a DataFrame.\n",
      "Try using .loc[row_indexer,col_indexer] = value instead\n",
      "\n",
      "See the caveats in the documentation: https://pandas.pydata.org/pandas-docs/stable/user_guide/indexing.html#returning-a-view-versus-a-copy\n",
      "  X['genre'] = X['genre'].replace('genre', '', regex=True)\n"
     ]
    }
   ],
   "source": [
    "X['genre'] = X['genre'].replace('genre', '', regex=True)"
   ]
  },
  {
   "cell_type": "code",
   "execution_count": 109,
   "metadata": {},
   "outputs": [
    {
     "name": "stdout",
     "output_type": "stream",
     "text": [
      "0        fiction\n",
      "1        fiction\n",
      "2        fiction\n",
      "3        fiction\n",
      "4        fiction\n",
      "          ...   \n",
      "1005     fiction\n",
      "1006     fiction\n",
      "1007     fiction\n",
      "1008     fiction\n",
      "1009     fiction\n",
      "Name: genre, Length: 1010, dtype: object\n"
     ]
    }
   ],
   "source": [
    "print(X['genre'])"
   ]
  },
  {
   "cell_type": "code",
   "execution_count": 110,
   "metadata": {},
   "outputs": [],
   "source": [
    "X_train, X_test, Y_train, Y_test = train_test_split(X, Y, test_size=0.2, random_state=42)"
   ]
  },
  {
   "cell_type": "code",
   "execution_count": 111,
   "metadata": {},
   "outputs": [
    {
     "name": "stdout",
     "output_type": "stream",
     "text": [
      "(808, 3)\n",
      "(202, 3)\n"
     ]
    }
   ],
   "source": [
    "print(X_train.shape)\n",
    "print(X_test.shape)"
   ]
  },
  {
   "cell_type": "code",
   "execution_count": 112,
   "metadata": {},
   "outputs": [],
   "source": [
    "vectorizer = TfidfVectorizer()\n",
    "X_train_vectorized = vectorizer.fit_transform(X_train.apply(lambda x: ' '.join(x), axis=1))"
   ]
  },
  {
   "cell_type": "code",
   "execution_count": 113,
   "metadata": {},
   "outputs": [
    {
     "data": {
      "text/html": [
       "<style>#sk-container-id-3 {color: black;background-color: white;}#sk-container-id-3 pre{padding: 0;}#sk-container-id-3 div.sk-toggleable {background-color: white;}#sk-container-id-3 label.sk-toggleable__label {cursor: pointer;display: block;width: 100%;margin-bottom: 0;padding: 0.3em;box-sizing: border-box;text-align: center;}#sk-container-id-3 label.sk-toggleable__label-arrow:before {content: \"▸\";float: left;margin-right: 0.25em;color: #696969;}#sk-container-id-3 label.sk-toggleable__label-arrow:hover:before {color: black;}#sk-container-id-3 div.sk-estimator:hover label.sk-toggleable__label-arrow:before {color: black;}#sk-container-id-3 div.sk-toggleable__content {max-height: 0;max-width: 0;overflow: hidden;text-align: left;background-color: #f0f8ff;}#sk-container-id-3 div.sk-toggleable__content pre {margin: 0.2em;color: black;border-radius: 0.25em;background-color: #f0f8ff;}#sk-container-id-3 input.sk-toggleable__control:checked~div.sk-toggleable__content {max-height: 200px;max-width: 100%;overflow: auto;}#sk-container-id-3 input.sk-toggleable__control:checked~label.sk-toggleable__label-arrow:before {content: \"▾\";}#sk-container-id-3 div.sk-estimator input.sk-toggleable__control:checked~label.sk-toggleable__label {background-color: #d4ebff;}#sk-container-id-3 div.sk-label input.sk-toggleable__control:checked~label.sk-toggleable__label {background-color: #d4ebff;}#sk-container-id-3 input.sk-hidden--visually {border: 0;clip: rect(1px 1px 1px 1px);clip: rect(1px, 1px, 1px, 1px);height: 1px;margin: -1px;overflow: hidden;padding: 0;position: absolute;width: 1px;}#sk-container-id-3 div.sk-estimator {font-family: monospace;background-color: #f0f8ff;border: 1px dotted black;border-radius: 0.25em;box-sizing: border-box;margin-bottom: 0.5em;}#sk-container-id-3 div.sk-estimator:hover {background-color: #d4ebff;}#sk-container-id-3 div.sk-parallel-item::after {content: \"\";width: 100%;border-bottom: 1px solid gray;flex-grow: 1;}#sk-container-id-3 div.sk-label:hover label.sk-toggleable__label {background-color: #d4ebff;}#sk-container-id-3 div.sk-serial::before {content: \"\";position: absolute;border-left: 1px solid gray;box-sizing: border-box;top: 0;bottom: 0;left: 50%;z-index: 0;}#sk-container-id-3 div.sk-serial {display: flex;flex-direction: column;align-items: center;background-color: white;padding-right: 0.2em;padding-left: 0.2em;position: relative;}#sk-container-id-3 div.sk-item {position: relative;z-index: 1;}#sk-container-id-3 div.sk-parallel {display: flex;align-items: stretch;justify-content: center;background-color: white;position: relative;}#sk-container-id-3 div.sk-item::before, #sk-container-id-3 div.sk-parallel-item::before {content: \"\";position: absolute;border-left: 1px solid gray;box-sizing: border-box;top: 0;bottom: 0;left: 50%;z-index: -1;}#sk-container-id-3 div.sk-parallel-item {display: flex;flex-direction: column;z-index: 1;position: relative;background-color: white;}#sk-container-id-3 div.sk-parallel-item:first-child::after {align-self: flex-end;width: 50%;}#sk-container-id-3 div.sk-parallel-item:last-child::after {align-self: flex-start;width: 50%;}#sk-container-id-3 div.sk-parallel-item:only-child::after {width: 0;}#sk-container-id-3 div.sk-dashed-wrapped {border: 1px dashed gray;margin: 0 0.4em 0.5em 0.4em;box-sizing: border-box;padding-bottom: 0.4em;background-color: white;}#sk-container-id-3 div.sk-label label {font-family: monospace;font-weight: bold;display: inline-block;line-height: 1.2em;}#sk-container-id-3 div.sk-label-container {text-align: center;}#sk-container-id-3 div.sk-container {/* jupyter's `normalize.less` sets `[hidden] { display: none; }` but bootstrap.min.css set `[hidden] { display: none !important; }` so we also need the `!important` here to be able to override the default hidden behavior on the sphinx rendered scikit-learn.org. See: https://github.com/scikit-learn/scikit-learn/issues/21755 */display: inline-block !important;position: relative;}#sk-container-id-3 div.sk-text-repr-fallback {display: none;}</style><div id=\"sk-container-id-3\" class=\"sk-top-container\"><div class=\"sk-text-repr-fallback\"><pre>KNeighborsClassifier()</pre><b>In a Jupyter environment, please rerun this cell to show the HTML representation or trust the notebook. <br />On GitHub, the HTML representation is unable to render, please try loading this page with nbviewer.org.</b></div><div class=\"sk-container\" hidden><div class=\"sk-item\"><div class=\"sk-estimator sk-toggleable\"><input class=\"sk-toggleable__control sk-hidden--visually\" id=\"sk-estimator-id-3\" type=\"checkbox\" checked><label for=\"sk-estimator-id-3\" class=\"sk-toggleable__label sk-toggleable__label-arrow\">KNeighborsClassifier</label><div class=\"sk-toggleable__content\"><pre>KNeighborsClassifier()</pre></div></div></div></div></div>"
      ],
      "text/plain": [
       "KNeighborsClassifier()"
      ]
     },
     "execution_count": 113,
     "metadata": {},
     "output_type": "execute_result"
    }
   ],
   "source": [
    "classifier = KNeighborsClassifier(n_neighbors=5)\n",
    "classifier.fit(X_train_vectorized, Y_train)"
   ]
  },
  {
   "cell_type": "code",
   "execution_count": 119,
   "metadata": {},
   "outputs": [
    {
     "name": "stdout",
     "output_type": "stream",
     "text": [
      "language_code           en-US\n",
      "Author           Barack Obama\n",
      "genre                 fiction\n",
      "Name: 629, dtype: object\n"
     ]
    }
   ],
   "source": [
    "test_book = X_test.iloc[0]\n",
    "user_vector = vectorizer.transform([' '.join(test_book)])\n",
    "print(test_book)"
   ]
  },
  {
   "cell_type": "code",
   "execution_count": 120,
   "metadata": {},
   "outputs": [
    {
     "name": "stdout",
     "output_type": "stream",
     "text": [
      "Recommendation -- \n",
      "['Bag of Bones']\n"
     ]
    }
   ],
   "source": [
    "#single prediction respect to lang code, author, genere\n",
    "print(\"Recommendation -- \")\n",
    "print(classifier.predict(user_vector))"
   ]
  },
  {
   "cell_type": "code",
   "execution_count": 121,
   "metadata": {},
   "outputs": [
    {
     "name": "stdout",
     "output_type": "stream",
     "text": [
      "1. Title: The Awakening, Author: Kelley Armstrong, Genre: genre fiction\n",
      "2. Title: Equal Rites, Author: Terry Pratchett, Genre: genre fiction\n",
      "3. Title: Caps for sale: a tale of a peddler, some monkeys and their monkey business, Author: Esphyr Slobodkina, Genre: genre fiction\n",
      "4. Title: The Last Juror, Author: John Grisham, Genre: nonfiction\n",
      "5. Title: Band of Brothers: E Company, 506th Regiment, 101st Airborne from Normandy to Hitler's Eagle's Nest, Author: Stephen E. Ambrose, Genre: genre fiction\n"
     ]
    }
   ],
   "source": [
    "#for multiple recommmendations\n",
    "distances, indices = classifier.kneighbors(user_vector)\n",
    "\n",
    "for i, index in enumerate(indices[0]):\n",
    "    book = df.iloc[index]\n",
    "    print(f\"{i+1}. Title: {book['Book Name']}, Author: {book['Author']}, Genre: {book['genre']}\")"
   ]
  },
  {
   "cell_type": "markdown",
   "metadata": {},
   "source": [
    "analyze section\n"
   ]
  },
  {
   "cell_type": "code",
   "execution_count": 117,
   "metadata": {},
   "outputs": [],
   "source": [
    "y_pred = classifier.predict(vectorizer.transform(X_test.apply(lambda x: ' '.join(x), axis=1)))"
   ]
  },
  {
   "cell_type": "code",
   "execution_count": 118,
   "metadata": {},
   "outputs": [
    {
     "name": "stdout",
     "output_type": "stream",
     "text": [
      "['Bag of Bones' 'Bag of Bones' 'Death Comes to Pemberley'\n",
      " 'A Court of Mist and Fury' 'Bag of Bones' 'Before They Are Hanged'\n",
      " 'Bag of Bones' 'Absolute Power' 'Contact' 'A Spool of Blue Thread'\n",
      " 'A Painted House' 'A Bruxa de Portobello' 'Eyes of the Dragon'\n",
      " 'Death Comes to Pemberley' 'Bag of Bones' ' The Tale of Despereaux'\n",
      " 'Death Comes to Pemberley' 'A Crown of Swords' 'Change of Heart'\n",
      " 'A Visit From the Goon Squad' 'Death Comes to Pemberley' 'Bag of Bones'\n",
      " 'Catherine the Great: Portrait of a Woman' 'Death Comes to Pemberley'\n",
      " 'Fool Moon ' 'Death Comes to Pemberley' 'A Crown of Swords'\n",
      " 'Death Comes to Pemberley' 'Death Comes to Pemberley'\n",
      " 'Death Comes to Pemberley' 'Death Comes to Pemberley'\n",
      " 'Death Comes to Pemberley' 'Death Comes to Pemberley' 'Bag of Bones'\n",
      " 'The Merchant of Venice' 'Howl and Other Poems ' 'Howl and Other Poems '\n",
      " 'Death Masks' 'Death Comes to Pemberley'\n",
      " \"America (The Book): A Citizen's Guide to Democracy Inaction\"\n",
      " 'Death Comes to Pemberley' 'Cress' 'A Breath of Snow and Ashes'\n",
      " 'Death Comes to Pemberley' 'A Long Way Down'\n",
      " 'Circus of the Damned (Anita Blake, Vampire Hunter, #3)' 'Bag of Bones'\n",
      " 'Angelfall' 'Absolute Power' 'Bag of Bones' 'Death Comes to Pemberley'\n",
      " 'Death Comes to Pemberley' 'Death Comes to Pemberley'\n",
      " 'Harold and the Purple Crayon' 'Cold Sassy Tree' 'Obsidian'\n",
      " 'Beautiful Bastard' 'A Court of Mist and Fury' 'Children of Dune'\n",
      " 'Death Comes to Pemberley' 'The Exorcist'\n",
      " 'A Storm of Swords: Part 2 Blood and Gold' 'Beautiful Ruins'\n",
      " 'Brown Bear, Brown Bear, What Do You See?'\n",
      " 'American Sniper: The Autobiography of the Most Lethal Sniper in U.S. Military History'\n",
      " 'A Bruxa de Portobello' 'Frindle' 'Hearts in Atlantis'\n",
      " 'Batman: The Dark Knight Returns' 'Beautiful Bastard' 'David Copperfield'\n",
      " 'A Memory of Light' 'Bag of Bones' 'Fool Moon '\n",
      " 'Moneyball: The Art of Winning an Unfair Game'\n",
      " 'Aristotle and Dante Discover the Secrets of the Universe'\n",
      " 'Eleven on Top' 'Aesopica' 'Bag of Bones' 'The Exorcist' 'Airframe'\n",
      " 'Diary' 'A Storm of Swords: Part 2 Blood and Gold' 'City of Thieves'\n",
      " 'Flight Behavior' 'Crank (Crank, #1)' 'Cruel & Unusual' 'Bag of Bones'\n",
      " 'Death Comes to Pemberley' 'Death Comes to Pemberley' 'Beautiful Bastard'\n",
      " \"A Dog's Purpose \" 'Bag of Bones'\n",
      " 'Alexander and the Terrible, Horrible, No Good, Very Bad Day'\n",
      " 'Death Comes to Pemberley' 'Death Comes to Pemberley' 'All Together Dead'\n",
      " 'Awakened' 'Death Comes to Pemberley' 'Batman: Year One' \"Ender's Shadow\"\n",
      " \"Dirk Gently's Holistic Detective Agency\" 'Death Comes to Pemberley'\n",
      " 'A Spool of Blue Thread' 'Everything Is Illuminated'\n",
      " 'Death Comes to Pemberley' 'Bloodlines' 'Just Kids'\n",
      " 'A Breath of Snow and Ashes' 'Eyes of the Dragon'\n",
      " 'Death Comes to Pemberley' 'Eyes of the Dragon'\n",
      " 'Lover Eternal (Black Dagger Brotherhood, #2)' 'Club Dead' 'Bag of Bones'\n",
      " 'A Dirty Job' 'Death Comes to Pemberley' 'A Painted House'\n",
      " 'City of Thieves' 'Death Comes to Pemberley' 'Beautiful Bastard'\n",
      " 'Club Dead' 'Hearts in Atlantis' 'A Memory of Light' 'Cell' 'Cress'\n",
      " 'Days of Blood & Starlight' \"Assassin's Apprentice\"\n",
      " 'Death Comes to Pemberley' 'Death of a Salesman'\n",
      " 'Death Comes to Pemberley' 'Cell' 'Cell' 'Beautiful Bastard'\n",
      " 'Children of the Mind' 'All the Bright Places' 'Beautiful Ruins'\n",
      " 'Eyes of the Dragon' \"Don't Sweat the Small Stuff\"\n",
      " 'Death Comes to Pemberley' 'Death Comes to Pemberley'\n",
      " 'Death Comes to Pemberley' 'Hearts in Atlantis' 'Lover Avenged, part one'\n",
      " 'Because of Winn-Dixie' 'A Breath of Snow and Ashes'\n",
      " 'Death Comes to Pemberley' 'Cabin Fever' 'Abhorsen' 'Bag of Bones'\n",
      " 'Before They Are Hanged' 'Death Comes to Pemberley'\n",
      " 'A Spool of Blue Thread' 'Absolute Power' 'Howl and Other Poems '\n",
      " \"I've Got Your Number\" 'Die Trying (Jack Reacher, #2)'\n",
      " 'A Memory of Light' 'Eleven on Top' 'O Zahir' 'Death Comes to Pemberley'\n",
      " 'Bag of Bones' 'Death Comes to Pemberley' 'Eyes of the Dragon'\n",
      " 'Eyes of the Dragon' 'Death Comes to Pemberley'\n",
      " \"Don't Sweat the Small Stuff\" 'Death Comes to Pemberley' 'A is for Alibi'\n",
      " 'Before They Are Hanged' 'Death Comes to Pemberley'\n",
      " 'Death Comes to Pemberley' 'House Rules' 'Everything Is Illuminated'\n",
      " 'Fool Moon ' 'Clear and Present Danger' 'At First Sight'\n",
      " 'Death of a Salesman' 'Death Masks' 'Death Comes to Pemberley'\n",
      " 'A Separate Peace' 'Cell' 'Chicka Chicka Boom Boom'\n",
      " 'Death Comes to Pemberley' 'Change of Heart' 'Eyes of the Dragon'\n",
      " 'A Scandal in Bohemia' \"Are You There, Vodka? It's Me, Chelsea\"\n",
      " 'The Beach House' 'Beautiful Bastard' \"Don't Sweat the Small Stuff\"\n",
      " ' A Monster Calls ' \"Are You There God? It's Me, Margaret\"\n",
      " 'Eyes of the Dragon' 'Eyes of the Dragon' 'Frindle'\n",
      " 'A Breath of Snow and Ashes' 'Death Comes to Pemberley'\n",
      " \"America (The Book): A Citizen's Guide to Democracy Inaction\"\n",
      " 'A Portrait of the Artist as a Young Man' 'Death Comes to Pemberley'\n",
      " \"Assassin's Apprentice\"]\n"
     ]
    }
   ],
   "source": [
    "print(y_pred)"
   ]
  },
  {
   "cell_type": "code",
   "execution_count": null,
   "metadata": {},
   "outputs": [],
   "source": []
  }
 ],
 "metadata": {
  "kernelspec": {
   "display_name": "Python 3.10.9 64-bit",
   "language": "python",
   "name": "python3"
  },
  "language_info": {
   "codemirror_mode": {
    "name": "ipython",
    "version": 3
   },
   "file_extension": ".py",
   "mimetype": "text/x-python",
   "name": "python",
   "nbconvert_exporter": "python",
   "pygments_lexer": "ipython3",
   "version": "3.10.9"
  },
  "orig_nbformat": 4,
  "vscode": {
   "interpreter": {
    "hash": "ff285c4e85497f3eb5ac7fae1cadf538c385046fb6335093f14a8c12075b2789"
   }
  }
 },
 "nbformat": 4,
 "nbformat_minor": 2
}
