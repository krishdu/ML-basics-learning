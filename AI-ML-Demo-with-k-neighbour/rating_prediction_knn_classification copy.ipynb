{
 "cells": [
  {
   "cell_type": "code",
   "execution_count": 29,
   "metadata": {},
   "outputs": [],
   "source": [
    "import pandas as pd\n",
    "import numpy as np\n",
    "from sklearn.model_selection import train_test_split\n",
    "from sklearn.preprocessing import LabelEncoder\n",
    "from sklearn.neighbors import KNeighborsClassifier\n",
    "import matplotlib.pyplot as plt"
   ]
  },
  {
   "cell_type": "code",
   "execution_count": 30,
   "metadata": {},
   "outputs": [],
   "source": [
    "df = pd.read_csv('books_4.csv')"
   ]
  },
  {
   "cell_type": "code",
   "execution_count": 31,
   "metadata": {},
   "outputs": [],
   "source": [
    "df['language_code'].fillna('eng', inplace=True)"
   ]
  },
  {
   "cell_type": "code",
   "execution_count": 32,
   "metadata": {},
   "outputs": [
    {
     "name": "stdout",
     "output_type": "stream",
     "text": [
      "0       genre fiction\n",
      "1       genre fiction\n",
      "2       genre fiction\n",
      "3       genre fiction\n",
      "4       genre fiction\n",
      "            ...      \n",
      "1005    genre fiction\n",
      "1006    genre fiction\n",
      "1007    genre fiction\n",
      "1008    genre fiction\n",
      "1009    genre fiction\n",
      "Name: genre, Length: 1010, dtype: object\n"
     ]
    }
   ],
   "source": [
    "print(df['genre'])"
   ]
  },
  {
   "cell_type": "code",
   "execution_count": 33,
   "metadata": {},
   "outputs": [],
   "source": [
    "df['genre'] = df['genre'].replace('genre', '', regex=True)"
   ]
  },
  {
   "cell_type": "code",
   "execution_count": 34,
   "metadata": {},
   "outputs": [],
   "source": [
    "author_encoder = LabelEncoder()\n",
    "genre_encoder = LabelEncoder()\n",
    "lng_encoder = LabelEncoder()\n",
    "author_rating_encoder = LabelEncoder()\n",
    "book_avg_encoder = LabelEncoder()\n",
    "df['Author'] = author_encoder.fit_transform(df['Author'])\n",
    "df['genre'] = genre_encoder.fit_transform(df['genre'])\n",
    "df['language_code'] = lng_encoder.fit_transform(df['language_code'])\n",
    "df['Author_Rating'] = author_rating_encoder.fit_transform(df['Author_Rating'])\n",
    "#df['Book_average_rating'] = book_avg_encoder.fit_transform(df['Book_average_rating'])"
   ]
  },
  {
   "cell_type": "code",
   "execution_count": 35,
   "metadata": {},
   "outputs": [
    {
     "data": {
      "text/plain": [
       "<bound method NDFrame.head of       Publishing Year                                  Book Name  Author  \\\n",
       "0                2005                                       1776     152   \n",
       "1                2011                           A Monster Calls      508   \n",
       "2                2004                     The Tale of Despereaux     381   \n",
       "3                2005       'Salem's Lot The Illustrated Edition     610   \n",
       "4                2002                                 2nd Chance     282   \n",
       "...               ...                                        ...     ...   \n",
       "1005             1991                                   Xenocide     500   \n",
       "1006             2003          Y: The Last Man, Vol. 1: Unmanned      84   \n",
       "1007             2001     Year of Wonders: A Novel of the Plague     221   \n",
       "1008             2008                                    Zeitoun     145   \n",
       "1009             1974  Zen and the Art of Motorcycle Maintenance     559   \n",
       "\n",
       "      language_code  Author_Rating  Book_average_rating  Book_ratings_count  \\\n",
       "0                 3              2                 4.06              130293   \n",
       "1                 3              0                 4.36              104579   \n",
       "2                 2              2                 4.00              113066   \n",
       "3                 3              0                 4.25               72797   \n",
       "4                 3              0                 4.01               68834   \n",
       "...             ...            ...                  ...                 ...   \n",
       "1005              3              2                 3.77              104467   \n",
       "1006              3              0                 4.12               81326   \n",
       "1007              3              2                 4.00              104283   \n",
       "1008              3              0                 4.08               55398   \n",
       "1009              3              2                 3.76              139411   \n",
       "\n",
       "      genre  gross sales  publisher revenue  sale price  sales rank  \\\n",
       "0         0      7814.40           4688.640       11.84         168   \n",
       "1         0      1842.45           1105.470       10.65         505   \n",
       "2         0      1153.35            692.010        6.99         541   \n",
       "3         0       770.24            462.144        6.64         879   \n",
       "4         0      1388.77            833.262       12.29         993   \n",
       "...     ...          ...                ...         ...         ...   \n",
       "1005      0      1707.15           1024.290        5.99         329   \n",
       "1006      0       117.81              0.000        0.99         767   \n",
       "1007      0       221.76              0.000        0.99         401   \n",
       "1008      0       408.74              0.000        3.82        1214   \n",
       "1009      0     16297.34              0.000        4.99          16   \n",
       "\n",
       "                                Publisher   units sold  \n",
       "0                         Random House LLC         660  \n",
       "1                         Random House LLC        4671  \n",
       "2                  Penguin Group (USA) LLC        4455  \n",
       "3                      Hachette Book Group       30672  \n",
       "4                 HarperCollins Publishers        2862  \n",
       "...                                    ...         ...  \n",
       "1005  Simon and Schuster Digital Sales Inc         285  \n",
       "1006        Amazon Digital Services,  Inc.       38664  \n",
       "1007        Amazon Digital Services,  Inc.        6048  \n",
       "1008        Amazon Digital Services,  Inc.         107  \n",
       "1009        Amazon Digital Services,  Inc.        3266  \n",
       "\n",
       "[1010 rows x 14 columns]>"
      ]
     },
     "execution_count": 35,
     "metadata": {},
     "output_type": "execute_result"
    }
   ],
   "source": [
    "df.head"
   ]
  },
  {
   "cell_type": "code",
   "execution_count": 36,
   "metadata": {},
   "outputs": [],
   "source": [
    "features = ['language_code', 'Author', 'genre', 'Publishing Year', 'Author_Rating', 'units sold']"
   ]
  },
  {
   "cell_type": "code",
   "execution_count": 37,
   "metadata": {},
   "outputs": [],
   "source": [
    "\n",
    "X = df[features]\n",
    "Y = df['Book_average_rating']"
   ]
  },
  {
   "cell_type": "code",
   "execution_count": 38,
   "metadata": {},
   "outputs": [
    {
     "name": "stdout",
     "output_type": "stream",
     "text": [
      "Missing values distribution: \n",
      "language_code      0.0\n",
      "Author             0.0\n",
      "genre              0.0\n",
      "Publishing Year    0.0\n",
      "Author_Rating      0.0\n",
      "units sold         0.0\n",
      "dtype: float64\n",
      "---\n",
      "0.0\n",
      "---\n",
      "language_code      0.0\n",
      "Author             0.0\n",
      "genre              0.0\n",
      "Publishing Year    0.0\n",
      "Author_Rating      0.0\n",
      "units sold         0.0\n",
      "dtype: float64\n",
      "---\n",
      "0.0\n"
     ]
    }
   ],
   "source": [
    "print(\"Missing values distribution: \")\n",
    "print(X.isna().mean())\n",
    "print('---')\n",
    "print(Y.isna().mean())\n",
    "print('---')\n",
    "print(X.isnull().mean())\n",
    "print('---')\n",
    "print(Y.isnull().mean())"
   ]
  },
  {
   "cell_type": "code",
   "execution_count": 39,
   "metadata": {},
   "outputs": [
    {
     "name": "stdout",
     "output_type": "stream",
     "text": [
      "      language_code  Author  genre  Publishing Year  Author_Rating  units sold\n",
      "0                 3     152      0             2005              2         660\n",
      "1                 3     508      0             2011              0        4671\n",
      "2                 2     381      0             2004              2        4455\n",
      "3                 3     610      0             2005              0       30672\n",
      "4                 3     282      0             2002              0        2862\n",
      "...             ...     ...    ...              ...            ...         ...\n",
      "1005              3     500      0             1991              2         285\n",
      "1006              3      84      0             2003              0       38664\n",
      "1007              3     221      0             2001              2        6048\n",
      "1008              3     145      0             2008              0         107\n",
      "1009              3     559      0             1974              2        3266\n",
      "\n",
      "[1010 rows x 6 columns]\n"
     ]
    }
   ],
   "source": [
    "print(X)"
   ]
  },
  {
   "cell_type": "code",
   "execution_count": 40,
   "metadata": {},
   "outputs": [],
   "source": [
    "X = X.values\n",
    "Y = Y.values"
   ]
  },
  {
   "cell_type": "code",
   "execution_count": 41,
   "metadata": {},
   "outputs": [
    {
     "name": "stdout",
     "output_type": "stream",
     "text": [
      "[[   3  152    0 2005    2  660]\n",
      " [   3  508    0 2011    0 4671]\n",
      " [   2  381    0 2004    2 4455]\n",
      " ...\n",
      " [   3  221    0 2001    2 6048]\n",
      " [   3  145    0 2008    0  107]\n",
      " [   3  559    0 1974    2 3266]]\n"
     ]
    }
   ],
   "source": [
    "print(X)"
   ]
  },
  {
   "cell_type": "code",
   "execution_count": 42,
   "metadata": {},
   "outputs": [],
   "source": [
    "# from sklearn.compose import make_column_transformer\n",
    "# from sklearn.preprocessing import OneHotEncoder\n",
    "\n",
    "# onhe = OneHotEncoder(handle_unknown='ignore')\n",
    "\n",
    "# col_trans = make_column_transformer((onhe, [0, 1, 2, 4]),\n",
    "#     remainder='passthrough')\n",
    "# X = col_trans.fit_transform(X)"
   ]
  },
  {
   "cell_type": "code",
   "execution_count": 43,
   "metadata": {},
   "outputs": [
    {
     "name": "stdout",
     "output_type": "stream",
     "text": [
      "[[   3  152    0 2005    2  660]\n",
      " [   3  508    0 2011    0 4671]\n",
      " [   2  381    0 2004    2 4455]\n",
      " ...\n",
      " [   3  221    0 2001    2 6048]\n",
      " [   3  145    0 2008    0  107]\n",
      " [   3  559    0 1974    2 3266]]\n"
     ]
    }
   ],
   "source": [
    "print(X)"
   ]
  },
  {
   "cell_type": "code",
   "execution_count": 44,
   "metadata": {},
   "outputs": [],
   "source": [
    "X_train, X_test, Y_train, Y_test = train_test_split(X, Y, test_size=0.2, random_state=0)"
   ]
  },
  {
   "cell_type": "code",
   "execution_count": 45,
   "metadata": {},
   "outputs": [
    {
     "name": "stdout",
     "output_type": "stream",
     "text": [
      "(808, 6)\n",
      "(202, 6)\n"
     ]
    }
   ],
   "source": [
    "print(X_train.shape)\n",
    "print(X_test.shape)"
   ]
  },
  {
   "cell_type": "code",
   "execution_count": 46,
   "metadata": {},
   "outputs": [
    {
     "name": "stdout",
     "output_type": "stream",
     "text": [
      "[    2   391     1  1981     2 47520]\n"
     ]
    }
   ],
   "source": [
    "print(X_test[0])"
   ]
  },
  {
   "cell_type": "code",
   "execution_count": 47,
   "metadata": {},
   "outputs": [
    {
     "name": "stdout",
     "output_type": "stream",
     "text": [
      "[4.3  4.46 3.79 4.15 3.89 3.85 4.02 4.07 4.18 4.24 3.97 3.57 4.1  4.08\n",
      " 3.65 3.92 4.08 3.64 4.02 3.83 4.16 4.15 4.11 4.29 3.94 4.22 3.8  4.13\n",
      " 4.18 4.33 4.26 3.96 4.01 3.82 4.04 3.93 4.08 3.86 3.43 4.32 3.81 4.25\n",
      " 4.34 3.97 3.21 3.62 3.99 3.85 4.05 4.17 4.2  4.07 4.   3.88 4.31 4.53\n",
      " 4.09 4.13 4.07 4.3  4.   4.05 3.9  3.89 3.92 4.24 3.78 4.09 4.   4.18\n",
      " 4.16 4.31 4.49 3.82 4.34 4.06 3.9  3.8  4.01 4.28 4.3  3.69 3.98 4.01\n",
      " 3.99 4.2  4.38 4.35 3.81 4.14 3.85 3.72 4.38 3.95 4.14 3.94 4.13 4.01\n",
      " 3.97 3.86 4.21 4.33 4.34 4.16 4.09 4.11 4.3  3.73 4.17 3.97 4.14 4.42\n",
      " 4.2  3.91 3.93 3.98 3.85 3.62 4.22 4.04 4.02 4.16 4.   4.36 3.72 4.27\n",
      " 4.24 4.1  4.1  4.13 4.11 3.93 4.19 4.27 3.97 3.92 3.98 4.15 3.77 3.91\n",
      " 4.28 4.32 3.89 4.29 4.16 3.82 3.76 3.7  4.11 3.75 3.99 4.22 4.06 3.84\n",
      " 4.   4.3  4.18 4.64 4.12 3.84 3.88 3.79 3.92 3.88 4.14 3.81 3.97 4.2\n",
      " 3.96 4.4  4.   3.96 4.11 3.98 3.64 3.59 4.36 3.98 4.25 4.18 4.05 4.08\n",
      " 4.14 3.96 4.21 4.08 3.81 3.84 3.41 3.99 3.85 3.75 4.12 4.21 4.1  4.56\n",
      " 4.02 4.46 4.21 4.28 4.03 4.42 3.98 4.41 3.94 3.92 3.96 3.67 4.03 4.12\n",
      " 3.94 4.2  3.91 3.77 4.13 4.41 3.93 4.21 3.65 3.59 3.73 3.79 3.99 3.99\n",
      " 3.92 3.87 3.84 4.2  4.28 4.05 4.08 3.85 4.21 4.26 4.11 3.78 4.3  4.01\n",
      " 3.82 3.57 4.24 3.78 4.07 4.11 3.64 3.42 4.12 3.97 3.35 3.91 3.63 4.77\n",
      " 3.88 3.95 4.03 3.81 4.29 4.05 3.58 3.91 4.12 3.98 4.35 4.11 3.92 4.6\n",
      " 4.12 4.09 4.34 4.34 4.15 3.8  3.66 4.4  4.18 4.15 3.83 4.34 4.16 4.19\n",
      " 3.95 4.14 3.76 4.17 4.14 4.26 3.81 4.18 4.17 3.94 4.11 4.06 4.26 4.34\n",
      " 3.94 3.59 4.21 3.97 3.5  3.6  3.8  3.76 3.55 3.82 3.98 4.54 4.45 3.97\n",
      " 4.16 3.7  4.04 4.32 3.96 3.91 4.01 3.52 4.29 3.71 3.46 4.29 3.93 3.83\n",
      " 4.16 3.85 4.05 3.6  4.06 3.76 3.97 4.11 3.56 4.   3.93 3.97 4.17 3.83\n",
      " 4.14 3.94 4.24 4.11 3.91 3.56 4.17 4.14 4.08 2.97 4.27 3.92 4.02 3.95\n",
      " 4.13 3.76 3.77 4.25 4.37 4.14 3.83 3.68 3.7  4.07 4.17 4.08 4.21 4.12\n",
      " 3.9  3.93 3.87 3.91 4.06 4.13 4.   4.05 3.8  4.33 3.68 3.91 3.95 3.88\n",
      " 4.61 3.91 3.92 4.11 3.81 4.02 4.1  4.28 4.12 3.92 4.35 3.98 4.44 3.55\n",
      " 3.77 4.17 4.16 3.94 4.32 4.22 4.15 3.77 4.43 4.06 3.91 4.37 4.21 4.1\n",
      " 4.24 3.98 3.89 4.24 4.5  3.99 3.93 4.11 4.23 4.26 3.21 4.07 3.89 3.98\n",
      " 3.79 4.39 4.15 3.75 3.57 4.04 4.15 4.27 3.86 3.96 4.04 3.86 4.01 4.29\n",
      " 3.82 3.78 4.19 3.85 3.85 4.27 4.24 4.42 4.1  3.9  3.47 4.46 3.56 4.33\n",
      " 4.08 3.53 4.16 3.89 4.   3.94 3.96 3.69 3.76 3.52 3.94 3.74 4.09 4.03\n",
      " 3.76 4.   3.89 4.42 4.24 4.25 4.06 4.34 3.8  4.06 3.67 4.21 3.73 4.2\n",
      " 4.3  4.17 4.12 4.24 4.   3.99 3.87 4.19 3.58 4.02 4.22 3.71 4.41 3.7\n",
      " 4.1  3.86 3.81 4.34 4.05 3.96 4.21 4.08 4.01 3.65 3.91 4.11 4.48 3.99\n",
      " 3.6  3.87 3.28 4.08 3.82 3.77 4.04 3.79 4.26 4.33 3.7  4.13 4.03 3.8\n",
      " 3.32 4.13 4.43 3.75 3.89 3.76 4.2  4.09 3.39 3.88 3.4  3.84 3.78 4.07\n",
      " 4.42 4.18 3.81 3.9  3.94 4.18 3.81 4.16 3.89 4.16 4.3  3.98 3.99 3.82\n",
      " 4.13 4.23 3.77 3.86 4.06 3.77 3.99 3.6  4.1  3.86 4.06 4.21 3.86 3.93\n",
      " 4.04 4.16 4.03 3.85 4.1  4.18 3.97 3.75 3.29 3.9  4.14 4.03 4.5  3.84\n",
      " 4.08 3.91 4.12 4.12 4.22 4.13 4.17 3.73 4.24 3.72 3.85 4.16 4.1  4.04\n",
      " 3.41 4.11 4.18 3.97 4.13 3.63 4.23 3.72 3.69 3.46 4.3  3.78 4.16 4.19\n",
      " 4.04 4.33 3.62 3.99 3.74 4.01 4.2  3.96 4.29 4.09 3.72 4.2  4.   3.92\n",
      " 3.8  4.22 4.16 3.73 4.11 4.27 4.01 4.18 4.15 4.19 3.97 3.9  3.83 3.94\n",
      " 4.26 4.04 4.05 4.16 3.75 4.02 4.2  4.12 3.86 3.8  3.89 3.8  4.32 3.56\n",
      " 3.95 3.97 4.11 4.72 4.15 4.36 4.04 4.13 3.75 3.97 3.79 4.32 3.48 4.46\n",
      " 4.01 4.08 3.57 3.88 3.89 4.09 4.19 4.4  4.42 3.95 4.14 3.78 3.81 3.98\n",
      " 3.88 4.41 3.9  3.95 4.   3.75 3.83 3.74 3.86 4.34 4.32 4.23 4.01 3.79\n",
      " 4.3  4.1  4.27 3.79 3.42 3.9  3.77 3.82 4.26 3.87 3.97 4.1  4.45 4.\n",
      " 4.09 3.9  4.13 3.65 4.26 4.21 4.01 3.66 3.82 4.16 4.1  4.42 4.16 4.15\n",
      " 3.64 3.77 4.47 4.16 3.84 3.71 3.93 3.81 3.99 3.94 4.26 4.02 3.81 4.04\n",
      " 3.48 3.83 3.41 3.7  3.64 3.89 3.99 4.22 3.96 4.37 4.18 4.29 4.05 4.12\n",
      " 3.55 4.02 3.94 4.07 3.49 3.8  3.73 3.98 4.06 4.03 4.33 3.95 4.25 4.15\n",
      " 4.26 4.65 3.73 3.52 4.05 4.03 4.28 4.09 3.45 3.93 4.13 3.96 3.81 4.16\n",
      " 3.9  3.93 4.12 3.67 4.16 4.27 4.1  3.66 4.16 4.21 3.66 4.53 3.51 4.23\n",
      " 4.43 4.23 4.2  4.   4.15 3.94 4.   4.16 4.23 4.17 3.93 4.06 4.3  3.98\n",
      " 4.28 3.51 4.24 4.17 4.04 3.56 4.17 3.69 3.87 4.26]\n"
     ]
    }
   ],
   "source": [
    "print(Y_train)"
   ]
  },
  {
   "cell_type": "code",
   "execution_count": 48,
   "metadata": {},
   "outputs": [
    {
     "data": {
      "text/html": [
       "<style>#sk-container-id-2 {color: black;background-color: white;}#sk-container-id-2 pre{padding: 0;}#sk-container-id-2 div.sk-toggleable {background-color: white;}#sk-container-id-2 label.sk-toggleable__label {cursor: pointer;display: block;width: 100%;margin-bottom: 0;padding: 0.3em;box-sizing: border-box;text-align: center;}#sk-container-id-2 label.sk-toggleable__label-arrow:before {content: \"▸\";float: left;margin-right: 0.25em;color: #696969;}#sk-container-id-2 label.sk-toggleable__label-arrow:hover:before {color: black;}#sk-container-id-2 div.sk-estimator:hover label.sk-toggleable__label-arrow:before {color: black;}#sk-container-id-2 div.sk-toggleable__content {max-height: 0;max-width: 0;overflow: hidden;text-align: left;background-color: #f0f8ff;}#sk-container-id-2 div.sk-toggleable__content pre {margin: 0.2em;color: black;border-radius: 0.25em;background-color: #f0f8ff;}#sk-container-id-2 input.sk-toggleable__control:checked~div.sk-toggleable__content {max-height: 200px;max-width: 100%;overflow: auto;}#sk-container-id-2 input.sk-toggleable__control:checked~label.sk-toggleable__label-arrow:before {content: \"▾\";}#sk-container-id-2 div.sk-estimator input.sk-toggleable__control:checked~label.sk-toggleable__label {background-color: #d4ebff;}#sk-container-id-2 div.sk-label input.sk-toggleable__control:checked~label.sk-toggleable__label {background-color: #d4ebff;}#sk-container-id-2 input.sk-hidden--visually {border: 0;clip: rect(1px 1px 1px 1px);clip: rect(1px, 1px, 1px, 1px);height: 1px;margin: -1px;overflow: hidden;padding: 0;position: absolute;width: 1px;}#sk-container-id-2 div.sk-estimator {font-family: monospace;background-color: #f0f8ff;border: 1px dotted black;border-radius: 0.25em;box-sizing: border-box;margin-bottom: 0.5em;}#sk-container-id-2 div.sk-estimator:hover {background-color: #d4ebff;}#sk-container-id-2 div.sk-parallel-item::after {content: \"\";width: 100%;border-bottom: 1px solid gray;flex-grow: 1;}#sk-container-id-2 div.sk-label:hover label.sk-toggleable__label {background-color: #d4ebff;}#sk-container-id-2 div.sk-serial::before {content: \"\";position: absolute;border-left: 1px solid gray;box-sizing: border-box;top: 0;bottom: 0;left: 50%;z-index: 0;}#sk-container-id-2 div.sk-serial {display: flex;flex-direction: column;align-items: center;background-color: white;padding-right: 0.2em;padding-left: 0.2em;position: relative;}#sk-container-id-2 div.sk-item {position: relative;z-index: 1;}#sk-container-id-2 div.sk-parallel {display: flex;align-items: stretch;justify-content: center;background-color: white;position: relative;}#sk-container-id-2 div.sk-item::before, #sk-container-id-2 div.sk-parallel-item::before {content: \"\";position: absolute;border-left: 1px solid gray;box-sizing: border-box;top: 0;bottom: 0;left: 50%;z-index: -1;}#sk-container-id-2 div.sk-parallel-item {display: flex;flex-direction: column;z-index: 1;position: relative;background-color: white;}#sk-container-id-2 div.sk-parallel-item:first-child::after {align-self: flex-end;width: 50%;}#sk-container-id-2 div.sk-parallel-item:last-child::after {align-self: flex-start;width: 50%;}#sk-container-id-2 div.sk-parallel-item:only-child::after {width: 0;}#sk-container-id-2 div.sk-dashed-wrapped {border: 1px dashed gray;margin: 0 0.4em 0.5em 0.4em;box-sizing: border-box;padding-bottom: 0.4em;background-color: white;}#sk-container-id-2 div.sk-label label {font-family: monospace;font-weight: bold;display: inline-block;line-height: 1.2em;}#sk-container-id-2 div.sk-label-container {text-align: center;}#sk-container-id-2 div.sk-container {/* jupyter's `normalize.less` sets `[hidden] { display: none; }` but bootstrap.min.css set `[hidden] { display: none !important; }` so we also need the `!important` here to be able to override the default hidden behavior on the sphinx rendered scikit-learn.org. See: https://github.com/scikit-learn/scikit-learn/issues/21755 */display: inline-block !important;position: relative;}#sk-container-id-2 div.sk-text-repr-fallback {display: none;}</style><div id=\"sk-container-id-2\" class=\"sk-top-container\"><div class=\"sk-text-repr-fallback\"><pre>LinearRegression()</pre><b>In a Jupyter environment, please rerun this cell to show the HTML representation or trust the notebook. <br />On GitHub, the HTML representation is unable to render, please try loading this page with nbviewer.org.</b></div><div class=\"sk-container\" hidden><div class=\"sk-item\"><div class=\"sk-estimator sk-toggleable\"><input class=\"sk-toggleable__control sk-hidden--visually\" id=\"sk-estimator-id-2\" type=\"checkbox\" checked><label for=\"sk-estimator-id-2\" class=\"sk-toggleable__label sk-toggleable__label-arrow\">LinearRegression</label><div class=\"sk-toggleable__content\"><pre>LinearRegression()</pre></div></div></div></div></div>"
      ],
      "text/plain": [
       "LinearRegression()"
      ]
     },
     "execution_count": 48,
     "metadata": {},
     "output_type": "execute_result"
    }
   ],
   "source": [
    "from sklearn.linear_model import LinearRegression\n",
    "regressor = LinearRegression()\n",
    "regressor.fit(X_train, Y_train)"
   ]
  },
  {
   "cell_type": "markdown",
   "metadata": {},
   "source": [
    "analyze section\n"
   ]
  },
  {
   "cell_type": "code",
   "execution_count": 49,
   "metadata": {},
   "outputs": [],
   "source": [
    "y_pred = regressor.predict(X_test)"
   ]
  },
  {
   "cell_type": "code",
   "execution_count": 50,
   "metadata": {},
   "outputs": [
    {
     "name": "stdout",
     "output_type": "stream",
     "text": [
      "[3.85 3.8  3.92 4.17 4.23 4.16 4.21 3.76 4.18 4.18 3.75 3.91 3.9  4.11\n",
      " 3.75 3.9  4.07 4.15 3.92 4.23 4.22 4.16 3.93 4.16 4.22 3.91 4.22 3.92\n",
      " 3.91 3.76 3.92 3.95 4.14 3.91 3.88 3.91 4.21 3.94 3.69 3.92 4.23 3.75\n",
      " 4.11 3.88 3.85 4.2  3.92 3.76 4.22 4.2  3.84 3.91 3.93 3.72 3.85 4.14\n",
      " 4.22 3.9  3.9  3.92 3.92 3.92 3.93 4.23 3.93 3.84 4.21 4.22 3.92 4.17\n",
      " 4.19 3.91 4.23 3.89 4.22 3.9  4.22 3.9  3.9  3.82 3.91 4.18 4.06 3.93\n",
      " 3.87 3.91 4.15 4.05 4.24 3.9  3.86 3.9  3.88 4.14 4.21 4.14 3.91 3.85\n",
      " 3.94 3.91 3.84 3.9  3.91 3.91 3.87 3.91 3.92 4.22 3.92 3.71 3.91 3.91\n",
      " 4.2  4.21 4.22 4.06 3.92 3.91 4.18 3.87 4.18 4.22 3.94 3.93 3.88 3.91\n",
      " 4.21 3.93 4.21 4.21 3.91 3.83 3.91 3.84 4.24 4.21 3.92 3.93 4.23 4.21\n",
      " 3.91 4.21 4.07 3.84 3.92 3.92 3.92 4.23 3.9  3.9  3.83 4.23 3.89 3.91\n",
      " 3.84 4.17 3.91 3.76 4.21 3.94 3.85 3.91 4.17 4.16 3.91 3.87 3.93 3.92\n",
      " 3.92 3.91 3.85 3.91 3.92 4.22 4.17 4.21 3.93 3.9  4.24 4.22 3.89 3.93\n",
      " 3.93 4.15 4.22 3.88 3.82 3.91 3.92 3.91 3.91 4.23 4.16 3.93 3.92 4.24\n",
      " 3.93 3.76 3.92 3.92 4.17 3.9 ]\n"
     ]
    }
   ],
   "source": [
    "print(y_pred)"
   ]
  },
  {
   "cell_type": "code",
   "execution_count": 51,
   "metadata": {},
   "outputs": [],
   "source": [
    "#print(encoder.inverse_transform(y_pred))"
   ]
  },
  {
   "cell_type": "code",
   "execution_count": 52,
   "metadata": {},
   "outputs": [
    {
     "name": "stdout",
     "output_type": "stream",
     "text": [
      "[[3.85 3.85]\n",
      " [3.8  3.23]\n",
      " [3.92 4.25]\n",
      " [4.17 4.26]\n",
      " [4.23 4.03]\n",
      " [4.16 4.04]\n",
      " [4.21 4.36]\n",
      " [3.76 3.42]\n",
      " [4.18 4.21]\n",
      " [4.18 4.17]\n",
      " [3.75 3.48]\n",
      " [3.91 3.67]\n",
      " [3.9  3.84]\n",
      " [4.11 4.13]\n",
      " [3.75 3.37]\n",
      " [3.9  3.56]\n",
      " [4.07 4.41]\n",
      " [4.15 4.04]\n",
      " [3.92 4.19]\n",
      " [4.23 4.17]\n",
      " [4.22 4.16]\n",
      " [4.16 4.08]\n",
      " [3.93 3.89]\n",
      " [4.16 4.23]\n",
      " [4.22 4.31]\n",
      " [3.91 3.95]\n",
      " [4.22 4.14]\n",
      " [3.92 4.19]\n",
      " [3.91 3.96]\n",
      " [3.76 3.31]\n",
      " [3.92 3.85]\n",
      " [3.95 4.29]\n",
      " [4.14 4.22]\n",
      " [3.91 3.9 ]\n",
      " [3.88 4.05]\n",
      " [3.91 3.81]\n",
      " [4.21 4.03]\n",
      " [3.94 3.62]\n",
      " [3.69 3.49]\n",
      " [3.92 3.88]\n",
      " [4.23 4.26]\n",
      " [3.75 3.33]\n",
      " [4.11 4.05]\n",
      " [3.88 3.86]\n",
      " [3.85 3.98]\n",
      " [4.2  4.28]\n",
      " [3.92 3.83]\n",
      " [3.76 3.22]\n",
      " [4.22 4.12]\n",
      " [4.2  4.18]\n",
      " [3.84 3.9 ]\n",
      " [3.91 3.69]\n",
      " [3.93 3.91]\n",
      " [3.72 3.3 ]\n",
      " [3.85 3.74]\n",
      " [4.14 4.18]\n",
      " [4.22 4.34]\n",
      " [3.9  3.79]\n",
      " [3.9  3.82]\n",
      " [3.92 3.99]\n",
      " [3.92 3.8 ]\n",
      " [3.92 3.92]\n",
      " [3.93 3.91]\n",
      " [4.23 4.08]\n",
      " [3.93 4.14]\n",
      " [3.84 3.77]\n",
      " [4.21 4.07]\n",
      " [4.22 4.07]\n",
      " [3.92 4.23]\n",
      " [4.17 4.34]\n",
      " [4.19 4.15]\n",
      " [3.91 4.14]\n",
      " [4.23 4.05]\n",
      " [3.89 3.51]\n",
      " [4.22 4.04]\n",
      " [3.9  4.07]\n",
      " [4.22 4.14]\n",
      " [3.9  3.9 ]\n",
      " [3.9  3.67]\n",
      " [3.82 3.95]\n",
      " [3.91 3.54]\n",
      " [4.18 4.03]\n",
      " [4.06 4.49]\n",
      " [3.93 3.83]\n",
      " [3.87 3.9 ]\n",
      " [3.91 3.7 ]\n",
      " [4.15 4.36]\n",
      " [4.05 4.47]\n",
      " [4.24 4.17]\n",
      " [3.9  3.84]\n",
      " [3.86 3.9 ]\n",
      " [3.9  3.84]\n",
      " [3.88 3.79]\n",
      " [4.14 4.04]\n",
      " [4.21 4.01]\n",
      " [4.14 4.17]\n",
      " [3.91 3.67]\n",
      " [3.85 3.83]\n",
      " [3.94 3.88]\n",
      " [3.91 3.98]\n",
      " [3.84 3.95]\n",
      " [3.9  3.88]\n",
      " [3.91 3.94]\n",
      " [3.91 3.69]\n",
      " [3.87 3.99]\n",
      " [3.91 4.29]\n",
      " [3.92 4.07]\n",
      " [4.22 4.01]\n",
      " [3.92 3.81]\n",
      " [3.71 3.48]\n",
      " [3.91 3.74]\n",
      " [3.91 3.94]\n",
      " [4.2  4.15]\n",
      " [4.21 4.02]\n",
      " [4.22 4.03]\n",
      " [4.06 4.59]\n",
      " [3.92 3.98]\n",
      " [3.91 3.91]\n",
      " [4.18 4.14]\n",
      " [3.87 3.97]\n",
      " [4.18 4.22]\n",
      " [4.22 4.2 ]\n",
      " [3.94 3.84]\n",
      " [3.93 3.69]\n",
      " [3.88 3.8 ]\n",
      " [3.91 3.94]\n",
      " [4.21 4.36]\n",
      " [3.93 3.77]\n",
      " [4.21 4.14]\n",
      " [4.21 4.1 ]\n",
      " [3.91 3.97]\n",
      " [3.83 3.73]\n",
      " [3.91 3.89]\n",
      " [3.84 3.84]\n",
      " [4.24 4.01]\n",
      " [4.21 4.29]\n",
      " [3.92 4.05]\n",
      " [3.93 3.71]\n",
      " [4.23 4.36]\n",
      " [4.21 4.08]\n",
      " [3.91 3.79]\n",
      " [4.21 4.37]\n",
      " [4.07 4.43]\n",
      " [3.84 3.96]\n",
      " [3.92 3.83]\n",
      " [3.92 3.95]\n",
      " [3.92 3.95]\n",
      " [4.23 4.36]\n",
      " [3.9  3.86]\n",
      " [3.9  3.95]\n",
      " [3.83 3.91]\n",
      " [4.23 4.03]\n",
      " [3.89 3.98]\n",
      " [3.91 4.08]\n",
      " [3.84 3.89]\n",
      " [4.17 4.02]\n",
      " [3.91 3.91]\n",
      " [3.76 3.47]\n",
      " [4.21 4.18]\n",
      " [3.94 3.66]\n",
      " [3.85 3.92]\n",
      " [3.91 3.86]\n",
      " [4.17 4.12]\n",
      " [4.16 4.1 ]\n",
      " [3.91 4.07]\n",
      " [3.87 3.86]\n",
      " [3.93 3.85]\n",
      " [3.92 3.91]\n",
      " [3.92 3.92]\n",
      " [3.91 3.81]\n",
      " [3.85 3.74]\n",
      " [3.91 3.95]\n",
      " [3.92 3.9 ]\n",
      " [4.22 4.1 ]\n",
      " [4.17 4.07]\n",
      " [4.21 4.02]\n",
      " [3.93 4.04]\n",
      " [3.9  3.85]\n",
      " [4.24 4.16]\n",
      " [4.22 4.23]\n",
      " [3.89 3.69]\n",
      " [3.93 3.95]\n",
      " [3.93 3.89]\n",
      " [4.15 4.17]\n",
      " [4.22 4.03]\n",
      " [3.88 3.72]\n",
      " [3.82 3.72]\n",
      " [3.91 4.12]\n",
      " [3.92 3.79]\n",
      " [3.91 3.89]\n",
      " [3.91 3.9 ]\n",
      " [4.23 4.34]\n",
      " [4.16 4.18]\n",
      " [3.93 4.  ]\n",
      " [3.92 4.  ]\n",
      " [4.24 4.27]\n",
      " [3.93 4.23]\n",
      " [3.76 3.1 ]\n",
      " [3.92 3.99]\n",
      " [3.92 3.91]\n",
      " [4.17 4.19]\n",
      " [3.9  3.76]]\n"
     ]
    }
   ],
   "source": [
    "# Predicting the Test set results\n",
    "np.set_printoptions(precision=2)\n",
    "print(np.concatenate((y_pred.reshape(len(y_pred),1), Y_test.reshape(len(Y_test),1)),1))\n"
   ]
  },
  {
   "cell_type": "code",
   "execution_count": 53,
   "metadata": {},
   "outputs": [
    {
     "name": "stdout",
     "output_type": "stream",
     "text": [
      " Accuracy of the model is 48.43\n"
     ]
    }
   ],
   "source": [
    "from sklearn.metrics import r2_score\n",
    "Accuracy=r2_score(Y_test, y_pred)*100\n",
    "print(\" Accuracy of the model is %.2f\" %Accuracy)\n"
   ]
  },
  {
   "cell_type": "code",
   "execution_count": 54,
   "metadata": {},
   "outputs": [
    {
     "name": "stdout",
     "output_type": "stream",
     "text": [
      "[2, 120, 3, 2005, 2, 960]\n",
      "[3.94]\n"
     ]
    }
   ],
   "source": [
    "#predict user input\n",
    "user_input = ['en-US', 'Christopher Moore', 'nonfiction', 2005, 'Intermediate', 960]\n",
    "\n",
    "user_input[0] = lng_encoder.transform([user_input[0]])[0]\n",
    "user_input[1] = author_encoder.transform([user_input[1]])[0]\n",
    "user_input[2] = genre_encoder.transform([user_input[2]])[0]\n",
    "user_input[4] = author_rating_encoder.transform([user_input[4]])[0]\n",
    "print(user_input)\n",
    "#df['Book_average_rating'] = book_avg_encoder.fit_transform(df['Book_average_rating'])\n",
    "pred_user_input = regressor.predict([user_input])\n",
    "print(pred_user_input)"
   ]
  },
  {
   "cell_type": "code",
   "execution_count": null,
   "metadata": {},
   "outputs": [],
   "source": []
  }
 ],
 "metadata": {
  "kernelspec": {
   "display_name": "Python 3.10.9 64-bit",
   "language": "python",
   "name": "python3"
  },
  "language_info": {
   "codemirror_mode": {
    "name": "ipython",
    "version": 3
   },
   "file_extension": ".py",
   "mimetype": "text/x-python",
   "name": "python",
   "nbconvert_exporter": "python",
   "pygments_lexer": "ipython3",
   "version": "3.10.9"
  },
  "orig_nbformat": 4,
  "vscode": {
   "interpreter": {
    "hash": "ff285c4e85497f3eb5ac7fae1cadf538c385046fb6335093f14a8c12075b2789"
   }
  }
 },
 "nbformat": 4,
 "nbformat_minor": 2
}
